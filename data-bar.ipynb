{
  "nbformat": 4,
  "nbformat_minor": 0,
  "metadata": {
    "colab": {
      "name": "rename.ipynb",
      "provenance": [],
      "collapsed_sections": []
    },
    "kernelspec": {
      "name": "python3",
      "display_name": "Python 3"
    },
    "language_info": {
      "name": "python"
    }
  },
  "cells": [
    {
      "cell_type": "code",
      "metadata": {
        "colab": {
          "base_uri": "https://localhost:8080/"
        },
        "id": "Nv6uDB-KYVH1",
        "outputId": "90595cde-5678-43bc-d87a-75aeade7c383"
      },
      "source": [
        "# import drive and files in google colaboratory\n",
        "from google.colab import drive\n",
        "from google.colab import files\n",
        "drive.mount('/content/drive')"
      ],
      "execution_count": 1,
      "outputs": [
        {
          "output_type": "stream",
          "text": [
            "Mounted at /content/drive\n"
          ],
          "name": "stdout"
        }
      ]
    },
    {
      "cell_type": "code",
      "metadata": {
        "colab": {
          "base_uri": "https://localhost:8080/"
        },
        "id": "fFUZPUt5Ybbi",
        "outputId": "9e1c3350-d42c-4213-fda4-33a12f20ced1"
      },
      "source": [
        "#import os module\n",
        "import numpy as np\n",
        "data = \"/content/drive/MyDrive/Art/Images/Images\"\n",
        "import os \n",
        "ldseg=np.array(os.listdir(data))\n",
        "print(ldseg)\n"
      ],
      "execution_count": 2,
      "outputs": [
        {
          "output_type": "stream",
          "text": [
            "['Chandra Sarkar' 'Mahatab Rashid' 'TarTin' 'Zarin' 'Injamamul Adittya'\n",
            " 'Farjan Shahriar Abeg' 'The Panicked Architect' 'The Bathroom Artist'\n",
            " 'Teabag Stories' 'Salman Sakib' 'Nycto' 'Nishat Binte Monsur' 'Inksmith'\n",
            " 'DarkaakArts' 'Icecream Stick Art' 'resized']\n"
          ],
          "name": "stdout"
        }
      ]
    },
    {
      "cell_type": "code",
      "metadata": {
        "colab": {
          "base_uri": "https://localhost:8080/"
        },
        "id": "AHebrDPYf95f",
        "outputId": "e1cabd29-84ff-4cca-dfcf-01467a7770db"
      },
      "source": [
        "for foldername in ldseg:\n",
        "  if foldername!=\"resized\":\n",
        "    filespath = data + \"/\" + foldername +\"/\"\n",
        "    print(filespath)\n",
        "    imagelist = np.array(os.listdir(filespath))\n",
        "    print(len(imagelist))"
      ],
      "execution_count": 3,
      "outputs": [
        {
          "output_type": "stream",
          "text": [
            "/content/drive/MyDrive/Art/Images/Images/Chandra Sarkar/\n",
            "34\n",
            "/content/drive/MyDrive/Art/Images/Images/Mahatab Rashid/\n",
            "28\n",
            "/content/drive/MyDrive/Art/Images/Images/TarTin/\n",
            "20\n",
            "/content/drive/MyDrive/Art/Images/Images/Zarin/\n",
            "61\n",
            "/content/drive/MyDrive/Art/Images/Images/Injamamul Adittya/\n",
            "42\n",
            "/content/drive/MyDrive/Art/Images/Images/Farjan Shahriar Abeg/\n",
            "45\n",
            "/content/drive/MyDrive/Art/Images/Images/The Panicked Architect/\n",
            "30\n",
            "/content/drive/MyDrive/Art/Images/Images/The Bathroom Artist/\n",
            "46\n",
            "/content/drive/MyDrive/Art/Images/Images/Teabag Stories/\n",
            "140\n",
            "/content/drive/MyDrive/Art/Images/Images/Salman Sakib/\n",
            "53\n",
            "/content/drive/MyDrive/Art/Images/Images/Nycto/\n",
            "54\n",
            "/content/drive/MyDrive/Art/Images/Images/Nishat Binte Monsur/\n",
            "39\n",
            "/content/drive/MyDrive/Art/Images/Images/Inksmith/\n",
            "45\n",
            "/content/drive/MyDrive/Art/Images/Images/DarkaakArts/\n",
            "66\n",
            "/content/drive/MyDrive/Art/Images/Images/Icecream Stick Art/\n",
            "16\n"
          ],
          "name": "stdout"
        }
      ]
    }
  ]
}